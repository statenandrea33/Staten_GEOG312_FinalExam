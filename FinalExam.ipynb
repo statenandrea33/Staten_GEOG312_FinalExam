{
  "nbformat": 4,
  "nbformat_minor": 0,
  "metadata": {
    "colab": {
      "provenance": [],
      "authorship_tag": "ABX9TyPmL4rpOflYd/3oTSvhQakf",
      "include_colab_link": true
    },
    "kernelspec": {
      "name": "python3",
      "display_name": "Python 3"
    },
    "language_info": {
      "name": "python"
    },
    "widgets": {
      "application/vnd.jupyter.widget-state+json": {
        "b41dae9c2d9f48fdb1ff38a27ab3d94a": {
          "model_module": "jupyter-leaflet",
          "model_name": "LeafletMapModel",
          "model_module_version": "^0.18",
          "state": {
            "_dom_classes": [],
            "_model_module": "jupyter-leaflet",
            "_model_module_version": "^0.18",
            "_model_name": "LeafletMapModel",
            "_view_count": null,
            "_view_module": "jupyter-leaflet",
            "_view_module_version": "^0.18",
            "_view_name": "LeafletMapView",
            "bottom": 1104,
            "bounce_at_zoom_limits": true,
            "box_zoom": true,
            "center": [
              36.03133177633189,
              270.00000000000006
            ],
            "close_popup_on_click": true,
            "controls": [
              "IPY_MODEL_70fccec81c2c46a28183d9b2ffbfba56",
              "IPY_MODEL_5a6840add8d84d24a7f1582775e082e8",
              "IPY_MODEL_1f9fe4dc4d1540279f5fb4d1268c99de",
              "IPY_MODEL_b8649d2a1aab4aacb92ba92a9679c103",
              "IPY_MODEL_0d69984d661e4eec80cc64defc1e2319",
              "IPY_MODEL_2d77ca4563624b88bd90cb55a3ba8d1f",
              "IPY_MODEL_01d6419c2d7e432c9019dd9b37c6cb68",
              "IPY_MODEL_ed571e5c0e4341f79c54d8fe99bcc45b",
              "IPY_MODEL_de80f1eb5b4245238a08674fba6a158a"
            ],
            "crs": {
              "name": "EPSG3857",
              "custom": false
            },
            "default_style": "IPY_MODEL_fbdce51ae3594e3e94db966f3bdf5214",
            "double_click_zoom": true,
            "dragging": true,
            "dragging_style": "IPY_MODEL_c82d7f2952b3468da2f3a8e1736ce9a7",
            "east": 408.8671875,
            "fullscreen": false,
            "inertia": true,
            "inertia_deceleration": 3000,
            "inertia_max_speed": 1500,
            "interpolation": "bilinear",
            "keyboard": true,
            "keyboard_pan_offset": 80,
            "keyboard_zoom_offset": 1,
            "layers": [
              "IPY_MODEL_34bede774e564af89b819778d921abb7",
              "IPY_MODEL_a71d9124e65c4980830a8071c1a7f306"
            ],
            "layout": "IPY_MODEL_520392e5835d4edf8d5123caf416b939",
            "left": 1770,
            "max_zoom": 24,
            "min_zoom": null,
            "modisdate": "2023-12-07",
            "north": 67.06743335108298,
            "options": [
              "bounce_at_zoom_limits",
              "box_zoom",
              "center",
              "close_popup_on_click",
              "double_click_zoom",
              "dragging",
              "fullscreen",
              "inertia",
              "inertia_deceleration",
              "inertia_max_speed",
              "interpolation",
              "keyboard",
              "keyboard_pan_offset",
              "keyboard_zoom_offset",
              "max_zoom",
              "min_zoom",
              "prefer_canvas",
              "scroll_wheel_zoom",
              "tap",
              "tap_tolerance",
              "touch_zoom",
              "world_copy_jump",
              "zoom",
              "zoom_animation_threshold",
              "zoom_delta",
              "zoom_snap"
            ],
            "panes": {},
            "prefer_canvas": false,
            "right": 3350,
            "scroll_wheel_zoom": true,
            "south": -13.923403897723347,
            "style": "IPY_MODEL_fbdce51ae3594e3e94db966f3bdf5214",
            "tap": true,
            "tap_tolerance": 15,
            "top": 504,
            "touch_zoom": true,
            "west": 131.13281250000003,
            "window_url": "https://ri969fpjv3-496ff2e9c6d22116-0-colab.googleusercontent.com/outputframe.html?vrz=colab_20231206-060120_RC00_588388130",
            "world_copy_jump": false,
            "zoom": 3,
            "zoom_animation_threshold": 4,
            "zoom_delta": 1,
            "zoom_snap": 1
          }
        },
        "70fccec81c2c46a28183d9b2ffbfba56": {
          "model_module": "jupyter-leaflet",
          "model_name": "LeafletWidgetControlModel",
          "model_module_version": "^0.18",
          "state": {
            "_model_module": "jupyter-leaflet",
            "_model_module_version": "^0.18",
            "_model_name": "LeafletWidgetControlModel",
            "_view_count": null,
            "_view_module": "jupyter-leaflet",
            "_view_module_version": "^0.18",
            "_view_name": "LeafletWidgetControlView",
            "max_height": null,
            "max_width": null,
            "min_height": null,
            "min_width": null,
            "options": [
              "position",
              "transparent_bg"
            ],
            "position": "topleft",
            "transparent_bg": false,
            "widget": "IPY_MODEL_47ccdc9e6b854bb9ae55d3332f40f7fe"
          }
        },
        "5a6840add8d84d24a7f1582775e082e8": {
          "model_module": "jupyter-leaflet",
          "model_name": "LeafletZoomControlModel",
          "model_module_version": "^0.18",
          "state": {
            "_model_module": "jupyter-leaflet",
            "_model_module_version": "^0.18",
            "_model_name": "LeafletZoomControlModel",
            "_view_count": null,
            "_view_module": "jupyter-leaflet",
            "_view_module_version": "^0.18",
            "_view_name": "LeafletZoomControlView",
            "options": [
              "position",
              "zoom_in_text",
              "zoom_in_title",
              "zoom_out_text",
              "zoom_out_title"
            ],
            "position": "topleft",
            "zoom_in_text": "+",
            "zoom_in_title": "Zoom in",
            "zoom_out_text": "-",
            "zoom_out_title": "Zoom out"
          }
        },
        "1f9fe4dc4d1540279f5fb4d1268c99de": {
          "model_module": "jupyter-leaflet",
          "model_name": "LeafletFullScreenControlModel",
          "model_module_version": "^0.18",
          "state": {
            "_model_module": "jupyter-leaflet",
            "_model_module_version": "^0.18",
            "_model_name": "LeafletFullScreenControlModel",
            "_view_count": null,
            "_view_module": "jupyter-leaflet",
            "_view_module_version": "^0.18",
            "_view_name": "LeafletFullScreenControlView",
            "options": [
              "position"
            ],
            "position": "topleft"
          }
        },
        "b8649d2a1aab4aacb92ba92a9679c103": {
          "model_module": "jupyter-leaflet",
          "model_name": "LeafletDrawControlModel",
          "model_module_version": "^0.18",
          "state": {
            "_model_module": "jupyter-leaflet",
            "_model_module_version": "^0.18",
            "_model_name": "LeafletDrawControlModel",
            "_view_count": null,
            "_view_module": "jupyter-leaflet",
            "_view_module_version": "^0.18",
            "_view_name": "LeafletDrawControlView",
            "circle": {},
            "circlemarker": {},
            "data": [],
            "edit": true,
            "marker": {
              "shapeOptions": {
                "color": "#3388ff"
              }
            },
            "options": [
              "position"
            ],
            "polygon": {
              "shapeOptions": {}
            },
            "polyline": {
              "shapeOptions": {}
            },
            "position": "topleft",
            "rectangle": {
              "shapeOptions": {
                "color": "#3388ff"
              }
            },
            "remove": true
          }
        },
        "0d69984d661e4eec80cc64defc1e2319": {
          "model_module": "jupyter-leaflet",
          "model_name": "LeafletScaleControlModel",
          "model_module_version": "^0.18",
          "state": {
            "_model_module": "jupyter-leaflet",
            "_model_module_version": "^0.18",
            "_model_name": "LeafletScaleControlModel",
            "_view_count": null,
            "_view_module": "jupyter-leaflet",
            "_view_module_version": "^0.18",
            "_view_name": "LeafletScaleControlView",
            "imperial": true,
            "max_width": 100,
            "metric": true,
            "options": [
              "imperial",
              "max_width",
              "metric",
              "position",
              "update_when_idle"
            ],
            "position": "bottomleft",
            "update_when_idle": false
          }
        },
        "2d77ca4563624b88bd90cb55a3ba8d1f": {
          "model_module": "jupyter-leaflet",
          "model_name": "LeafletMeasureControlModel",
          "model_module_version": "^0.18",
          "state": {
            "_custom_units": {},
            "_model_module": "jupyter-leaflet",
            "_model_module_version": "^0.18",
            "_model_name": "LeafletMeasureControlModel",
            "_view_count": null,
            "_view_module": "jupyter-leaflet",
            "_view_module_version": "^0.18",
            "_view_name": "LeafletMeasureControlView",
            "active_color": "orange",
            "capture_z_index": 10000,
            "completed_color": "#C8F2BE",
            "options": [
              "active_color",
              "capture_z_index",
              "completed_color",
              "popup_options",
              "position",
              "primary_area_unit",
              "primary_length_unit",
              "secondary_area_unit",
              "secondary_length_unit"
            ],
            "popup_options": {
              "className": "leaflet-measure-resultpopup",
              "autoPanPadding": [
                10,
                10
              ]
            },
            "position": "bottomleft",
            "primary_area_unit": "acres",
            "primary_length_unit": "kilometers",
            "secondary_area_unit": null,
            "secondary_length_unit": null
          }
        },
        "01d6419c2d7e432c9019dd9b37c6cb68": {
          "model_module": "jupyter-leaflet",
          "model_name": "LeafletWidgetControlModel",
          "model_module_version": "^0.18",
          "state": {
            "_model_module": "jupyter-leaflet",
            "_model_module_version": "^0.18",
            "_model_name": "LeafletWidgetControlModel",
            "_view_count": null,
            "_view_module": "jupyter-leaflet",
            "_view_module_version": "^0.18",
            "_view_name": "LeafletWidgetControlView",
            "max_height": null,
            "max_width": null,
            "min_height": null,
            "min_width": null,
            "options": [
              "position",
              "transparent_bg"
            ],
            "position": "topright",
            "transparent_bg": false,
            "widget": "IPY_MODEL_ff27739534c5402b868126e1dc01b351"
          }
        },
        "ed571e5c0e4341f79c54d8fe99bcc45b": {
          "model_module": "jupyter-leaflet",
          "model_name": "LeafletAttributionControlModel",
          "model_module_version": "^0.18",
          "state": {
            "_model_module": "jupyter-leaflet",
            "_model_module_version": "^0.18",
            "_model_name": "LeafletAttributionControlModel",
            "_view_count": null,
            "_view_module": "jupyter-leaflet",
            "_view_module_version": "^0.18",
            "_view_name": "LeafletAttributionControlView",
            "options": [
              "position",
              "prefix"
            ],
            "position": "bottomright",
            "prefix": "ipyleaflet"
          }
        },
        "de80f1eb5b4245238a08674fba6a158a": {
          "model_module": "jupyter-leaflet",
          "model_name": "LeafletWidgetControlModel",
          "model_module_version": "^0.18",
          "state": {
            "_model_module": "jupyter-leaflet",
            "_model_module_version": "^0.18",
            "_model_name": "LeafletWidgetControlModel",
            "_view_count": null,
            "_view_module": "jupyter-leaflet",
            "_view_module_version": "^0.18",
            "_view_name": "LeafletWidgetControlView",
            "max_height": null,
            "max_width": null,
            "min_height": null,
            "min_width": null,
            "options": [
              "position",
              "transparent_bg"
            ],
            "position": "bottomright",
            "transparent_bg": false,
            "widget": "IPY_MODEL_80c6ee94cd0a44788812d89812a2196a"
          }
        },
        "fbdce51ae3594e3e94db966f3bdf5214": {
          "model_module": "jupyter-leaflet",
          "model_name": "LeafletMapStyleModel",
          "model_module_version": "^0.18",
          "state": {
            "_model_module": "jupyter-leaflet",
            "_model_module_version": "^0.18",
            "_model_name": "LeafletMapStyleModel",
            "_view_count": null,
            "_view_module": "@jupyter-widgets/base",
            "_view_module_version": "1.2.0",
            "_view_name": "StyleView",
            "cursor": "grab"
          }
        },
        "c82d7f2952b3468da2f3a8e1736ce9a7": {
          "model_module": "jupyter-leaflet",
          "model_name": "LeafletMapStyleModel",
          "model_module_version": "^0.18",
          "state": {
            "_model_module": "jupyter-leaflet",
            "_model_module_version": "^0.18",
            "_model_name": "LeafletMapStyleModel",
            "_view_count": null,
            "_view_module": "@jupyter-widgets/base",
            "_view_module_version": "1.2.0",
            "_view_name": "StyleView",
            "cursor": "move"
          }
        },
        "34bede774e564af89b819778d921abb7": {
          "model_module": "jupyter-leaflet",
          "model_name": "LeafletTileLayerModel",
          "model_module_version": "^0.18",
          "state": {
            "_model_module": "jupyter-leaflet",
            "_model_module_version": "^0.18",
            "_model_name": "LeafletTileLayerModel",
            "_view_count": null,
            "_view_module": "jupyter-leaflet",
            "_view_module_version": "^0.18",
            "_view_name": "LeafletTileLayerView",
            "attribution": "&copy; <a href=\"https://www.openstreetmap.org/copyright\">OpenStreetMap</a> contributors",
            "base": true,
            "bottom": true,
            "bounds": null,
            "detect_retina": false,
            "loading": false,
            "max_native_zoom": null,
            "max_zoom": 19,
            "min_native_zoom": null,
            "min_zoom": 1,
            "name": "OpenStreetMap.Mapnik",
            "no_wrap": false,
            "opacity": 1,
            "options": [
              "attribution",
              "bounds",
              "detect_retina",
              "max_native_zoom",
              "max_zoom",
              "min_native_zoom",
              "min_zoom",
              "no_wrap",
              "tile_size",
              "tms",
              "zoom_offset"
            ],
            "pane": "",
            "popup": null,
            "popup_max_height": null,
            "popup_max_width": 300,
            "popup_min_width": 50,
            "show_loading": false,
            "subitems": [],
            "tile_size": 256,
            "tms": false,
            "url": "https://tile.openstreetmap.org/{z}/{x}/{y}.png",
            "visible": true,
            "zoom_offset": 0
          }
        },
        "a71d9124e65c4980830a8071c1a7f306": {
          "model_module": "jupyter-leaflet",
          "model_name": "LeafletTileLayerModel",
          "model_module_version": "^0.18",
          "state": {
            "_model_module": "jupyter-leaflet",
            "_model_module_version": "^0.18",
            "_model_name": "LeafletTileLayerModel",
            "_view_count": null,
            "_view_module": "jupyter-leaflet",
            "_view_module_version": "^0.18",
            "_view_name": "LeafletTileLayerView",
            "attribution": "Google Earth Engine",
            "base": false,
            "bottom": true,
            "bounds": null,
            "detect_retina": false,
            "loading": false,
            "max_native_zoom": null,
            "max_zoom": 24,
            "min_native_zoom": null,
            "min_zoom": 0,
            "name": "Precipitation",
            "no_wrap": false,
            "opacity": 1,
            "options": [
              "attribution",
              "bounds",
              "detect_retina",
              "max_native_zoom",
              "max_zoom",
              "min_native_zoom",
              "min_zoom",
              "no_wrap",
              "tile_size",
              "tms",
              "zoom_offset"
            ],
            "pane": "",
            "popup": null,
            "popup_max_height": null,
            "popup_max_width": 300,
            "popup_min_width": 50,
            "show_loading": false,
            "subitems": [],
            "tile_size": 256,
            "tms": false,
            "url": "https://earthengine.googleapis.com/v1/projects/earthengine-legacy/maps/b622b7198a88901c271b712d6a07893d-bdb33be2fecc961c55f1afad78cb22a7/tiles/{z}/{x}/{y}",
            "visible": true,
            "zoom_offset": 0
          }
        },
        "520392e5835d4edf8d5123caf416b939": {
          "model_module": "@jupyter-widgets/base",
          "model_name": "LayoutModel",
          "model_module_version": "1.2.0",
          "state": {
            "_model_module": "@jupyter-widgets/base",
            "_model_module_version": "1.2.0",
            "_model_name": "LayoutModel",
            "_view_count": null,
            "_view_module": "@jupyter-widgets/base",
            "_view_module_version": "1.2.0",
            "_view_name": "LayoutView",
            "align_content": null,
            "align_items": null,
            "align_self": null,
            "border": null,
            "bottom": null,
            "display": null,
            "flex": null,
            "flex_flow": null,
            "grid_area": null,
            "grid_auto_columns": null,
            "grid_auto_flow": null,
            "grid_auto_rows": null,
            "grid_column": null,
            "grid_gap": null,
            "grid_row": null,
            "grid_template_areas": null,
            "grid_template_columns": null,
            "grid_template_rows": null,
            "height": "600px",
            "justify_content": null,
            "justify_items": null,
            "left": null,
            "margin": null,
            "max_height": null,
            "max_width": null,
            "min_height": null,
            "min_width": null,
            "object_fit": null,
            "object_position": null,
            "order": null,
            "overflow": null,
            "overflow_x": null,
            "overflow_y": null,
            "padding": null,
            "right": null,
            "top": null,
            "visibility": null,
            "width": null
          }
        },
        "4898ac757e23473db56935f71548787b": {
          "model_module": "jupyter-leaflet",
          "model_name": "LeafletMapStyleModel",
          "model_module_version": "^0.18",
          "state": {
            "_model_module": "jupyter-leaflet",
            "_model_module_version": "^0.18",
            "_model_name": "LeafletMapStyleModel",
            "_view_count": null,
            "_view_module": "@jupyter-widgets/base",
            "_view_module_version": "1.2.0",
            "_view_name": "StyleView",
            "cursor": "grab"
          }
        },
        "47ccdc9e6b854bb9ae55d3332f40f7fe": {
          "model_module": "@jupyter-widgets/controls",
          "model_name": "HBoxModel",
          "model_module_version": "1.5.0",
          "state": {
            "_dom_classes": [
              "geemap-colab"
            ],
            "_model_module": "@jupyter-widgets/controls",
            "_model_module_version": "1.5.0",
            "_model_name": "HBoxModel",
            "_view_count": null,
            "_view_module": "@jupyter-widgets/controls",
            "_view_module_version": "1.5.0",
            "_view_name": "HBoxView",
            "box_style": "",
            "children": [
              "IPY_MODEL_7a196e79dfdd42f5b8cc77d324ae931f"
            ],
            "layout": "IPY_MODEL_f7f4b221460343ddb89d62567db95dd6"
          }
        },
        "ff27739534c5402b868126e1dc01b351": {
          "model_module": "@jupyter-widgets/controls",
          "model_name": "VBoxModel",
          "model_module_version": "1.5.0",
          "state": {
            "_dom_classes": [
              "geemap-colab"
            ],
            "_model_module": "@jupyter-widgets/controls",
            "_model_module_version": "1.5.0",
            "_model_name": "VBoxModel",
            "_view_count": null,
            "_view_module": "@jupyter-widgets/controls",
            "_view_module_version": "1.5.0",
            "_view_name": "VBoxView",
            "box_style": "",
            "children": [
              "IPY_MODEL_9a2c54bc95b24b14b1cbb90c0c455bca"
            ],
            "layout": "IPY_MODEL_951125314c384096a7ede1817a167789"
          }
        },
        "80c6ee94cd0a44788812d89812a2196a": {
          "model_module": "@jupyter-widgets/output",
          "model_name": "OutputModel",
          "model_module_version": "1.0.0",
          "state": {
            "_dom_classes": [
              "geemap-colab"
            ],
            "_model_module": "@jupyter-widgets/output",
            "_model_module_version": "1.0.0",
            "_model_name": "OutputModel",
            "_view_count": null,
            "_view_module": "@jupyter-widgets/output",
            "_view_module_version": "1.0.0",
            "_view_name": "OutputView",
            "layout": "IPY_MODEL_af91cbf0c6a84d84b5d602aa9cd2b81d",
            "msg_id": "",
            "outputs": [
              {
                "output_type": "display_data",
                "data": {
                  "text/plain": "<Figure size 300x30 with 1 Axes>",
                  "image/png": "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\n"
                },
                "metadata": {}
              }
            ]
          }
        },
        "7a196e79dfdd42f5b8cc77d324ae931f": {
          "model_module": "@jupyter-widgets/controls",
          "model_name": "ToggleButtonModel",
          "model_module_version": "1.5.0",
          "state": {
            "_dom_classes": [],
            "_model_module": "@jupyter-widgets/controls",
            "_model_module_version": "1.5.0",
            "_model_name": "ToggleButtonModel",
            "_view_count": null,
            "_view_module": "@jupyter-widgets/controls",
            "_view_module_version": "1.5.0",
            "_view_name": "ToggleButtonView",
            "button_style": "",
            "description": "",
            "description_tooltip": null,
            "disabled": false,
            "icon": "globe",
            "layout": "IPY_MODEL_2e9b69a4b54948df9f90ef8baa47b57b",
            "style": "IPY_MODEL_f826b50538e4474d92cee8a29bfc2d4d",
            "tooltip": "Search location/data",
            "value": false
          }
        },
        "f7f4b221460343ddb89d62567db95dd6": {
          "model_module": "@jupyter-widgets/base",
          "model_name": "LayoutModel",
          "model_module_version": "1.2.0",
          "state": {
            "_model_module": "@jupyter-widgets/base",
            "_model_module_version": "1.2.0",
            "_model_name": "LayoutModel",
            "_view_count": null,
            "_view_module": "@jupyter-widgets/base",
            "_view_module_version": "1.2.0",
            "_view_name": "LayoutView",
            "align_content": null,
            "align_items": null,
            "align_self": null,
            "border": null,
            "bottom": null,
            "display": null,
            "flex": null,
            "flex_flow": null,
            "grid_area": null,
            "grid_auto_columns": null,
            "grid_auto_flow": null,
            "grid_auto_rows": null,
            "grid_column": null,
            "grid_gap": null,
            "grid_row": null,
            "grid_template_areas": null,
            "grid_template_columns": null,
            "grid_template_rows": null,
            "height": null,
            "justify_content": null,
            "justify_items": null,
            "left": null,
            "margin": null,
            "max_height": null,
            "max_width": null,
            "min_height": null,
            "min_width": null,
            "object_fit": null,
            "object_position": null,
            "order": null,
            "overflow": null,
            "overflow_x": null,
            "overflow_y": null,
            "padding": null,
            "right": null,
            "top": null,
            "visibility": null,
            "width": null
          }
        },
        "9a2c54bc95b24b14b1cbb90c0c455bca": {
          "model_module": "@jupyter-widgets/controls",
          "model_name": "ToggleButtonModel",
          "model_module_version": "1.5.0",
          "state": {
            "_dom_classes": [],
            "_model_module": "@jupyter-widgets/controls",
            "_model_module_version": "1.5.0",
            "_model_name": "ToggleButtonModel",
            "_view_count": null,
            "_view_module": "@jupyter-widgets/controls",
            "_view_module_version": "1.5.0",
            "_view_name": "ToggleButtonView",
            "button_style": "",
            "description": "",
            "description_tooltip": null,
            "disabled": false,
            "icon": "wrench",
            "layout": "IPY_MODEL_9534327202824fceac142d9e559e1368",
            "style": "IPY_MODEL_881e9318962a4c3a8ebf75930dad7484",
            "tooltip": "Toolbar",
            "value": false
          }
        },
        "951125314c384096a7ede1817a167789": {
          "model_module": "@jupyter-widgets/base",
          "model_name": "LayoutModel",
          "model_module_version": "1.2.0",
          "state": {
            "_model_module": "@jupyter-widgets/base",
            "_model_module_version": "1.2.0",
            "_model_name": "LayoutModel",
            "_view_count": null,
            "_view_module": "@jupyter-widgets/base",
            "_view_module_version": "1.2.0",
            "_view_name": "LayoutView",
            "align_content": null,
            "align_items": null,
            "align_self": null,
            "border": null,
            "bottom": null,
            "display": null,
            "flex": null,
            "flex_flow": null,
            "grid_area": null,
            "grid_auto_columns": null,
            "grid_auto_flow": null,
            "grid_auto_rows": null,
            "grid_column": null,
            "grid_gap": null,
            "grid_row": null,
            "grid_template_areas": null,
            "grid_template_columns": null,
            "grid_template_rows": null,
            "height": null,
            "justify_content": null,
            "justify_items": null,
            "left": null,
            "margin": null,
            "max_height": null,
            "max_width": null,
            "min_height": null,
            "min_width": null,
            "object_fit": null,
            "object_position": null,
            "order": null,
            "overflow": null,
            "overflow_x": null,
            "overflow_y": null,
            "padding": null,
            "right": null,
            "top": null,
            "visibility": null,
            "width": null
          }
        },
        "af91cbf0c6a84d84b5d602aa9cd2b81d": {
          "model_module": "@jupyter-widgets/base",
          "model_name": "LayoutModel",
          "model_module_version": "1.2.0",
          "state": {
            "_model_module": "@jupyter-widgets/base",
            "_model_module_version": "1.2.0",
            "_model_name": "LayoutModel",
            "_view_count": null,
            "_view_module": "@jupyter-widgets/base",
            "_view_module_version": "1.2.0",
            "_view_name": "LayoutView",
            "align_content": null,
            "align_items": null,
            "align_self": null,
            "border": null,
            "bottom": null,
            "display": null,
            "flex": null,
            "flex_flow": null,
            "grid_area": null,
            "grid_auto_columns": null,
            "grid_auto_flow": null,
            "grid_auto_rows": null,
            "grid_column": null,
            "grid_gap": null,
            "grid_row": null,
            "grid_template_areas": null,
            "grid_template_columns": null,
            "grid_template_rows": null,
            "height": null,
            "justify_content": null,
            "justify_items": null,
            "left": null,
            "margin": null,
            "max_height": null,
            "max_width": null,
            "min_height": null,
            "min_width": null,
            "object_fit": null,
            "object_position": null,
            "order": null,
            "overflow": null,
            "overflow_x": null,
            "overflow_y": null,
            "padding": null,
            "right": null,
            "top": null,
            "visibility": null,
            "width": "270px"
          }
        },
        "2e9b69a4b54948df9f90ef8baa47b57b": {
          "model_module": "@jupyter-widgets/base",
          "model_name": "LayoutModel",
          "model_module_version": "1.2.0",
          "state": {
            "_model_module": "@jupyter-widgets/base",
            "_model_module_version": "1.2.0",
            "_model_name": "LayoutModel",
            "_view_count": null,
            "_view_module": "@jupyter-widgets/base",
            "_view_module_version": "1.2.0",
            "_view_name": "LayoutView",
            "align_content": null,
            "align_items": null,
            "align_self": null,
            "border": null,
            "bottom": null,
            "display": null,
            "flex": null,
            "flex_flow": null,
            "grid_area": null,
            "grid_auto_columns": null,
            "grid_auto_flow": null,
            "grid_auto_rows": null,
            "grid_column": null,
            "grid_gap": null,
            "grid_row": null,
            "grid_template_areas": null,
            "grid_template_columns": null,
            "grid_template_rows": null,
            "height": "28px",
            "justify_content": null,
            "justify_items": null,
            "left": null,
            "margin": null,
            "max_height": null,
            "max_width": null,
            "min_height": null,
            "min_width": null,
            "object_fit": null,
            "object_position": null,
            "order": null,
            "overflow": null,
            "overflow_x": null,
            "overflow_y": null,
            "padding": "0px 0px 0px 4px",
            "right": null,
            "top": null,
            "visibility": null,
            "width": "28px"
          }
        },
        "f826b50538e4474d92cee8a29bfc2d4d": {
          "model_module": "@jupyter-widgets/controls",
          "model_name": "DescriptionStyleModel",
          "model_module_version": "1.5.0",
          "state": {
            "_model_module": "@jupyter-widgets/controls",
            "_model_module_version": "1.5.0",
            "_model_name": "DescriptionStyleModel",
            "_view_count": null,
            "_view_module": "@jupyter-widgets/base",
            "_view_module_version": "1.2.0",
            "_view_name": "StyleView",
            "description_width": ""
          }
        },
        "9534327202824fceac142d9e559e1368": {
          "model_module": "@jupyter-widgets/base",
          "model_name": "LayoutModel",
          "model_module_version": "1.2.0",
          "state": {
            "_model_module": "@jupyter-widgets/base",
            "_model_module_version": "1.2.0",
            "_model_name": "LayoutModel",
            "_view_count": null,
            "_view_module": "@jupyter-widgets/base",
            "_view_module_version": "1.2.0",
            "_view_name": "LayoutView",
            "align_content": null,
            "align_items": null,
            "align_self": null,
            "border": null,
            "bottom": null,
            "display": null,
            "flex": null,
            "flex_flow": null,
            "grid_area": null,
            "grid_auto_columns": null,
            "grid_auto_flow": null,
            "grid_auto_rows": null,
            "grid_column": null,
            "grid_gap": null,
            "grid_row": null,
            "grid_template_areas": null,
            "grid_template_columns": null,
            "grid_template_rows": null,
            "height": "28px",
            "justify_content": null,
            "justify_items": null,
            "left": null,
            "margin": null,
            "max_height": null,
            "max_width": null,
            "min_height": null,
            "min_width": null,
            "object_fit": null,
            "object_position": null,
            "order": null,
            "overflow": null,
            "overflow_x": null,
            "overflow_y": null,
            "padding": "0px 0px 0px 4px",
            "right": null,
            "top": null,
            "visibility": null,
            "width": "28px"
          }
        },
        "881e9318962a4c3a8ebf75930dad7484": {
          "model_module": "@jupyter-widgets/controls",
          "model_name": "DescriptionStyleModel",
          "model_module_version": "1.5.0",
          "state": {
            "_model_module": "@jupyter-widgets/controls",
            "_model_module_version": "1.5.0",
            "_model_name": "DescriptionStyleModel",
            "_view_count": null,
            "_view_module": "@jupyter-widgets/base",
            "_view_module_version": "1.2.0",
            "_view_name": "StyleView",
            "description_width": ""
          }
        }
      }
    }
  },
  "cells": [
    {
      "cell_type": "markdown",
      "metadata": {
        "id": "view-in-github",
        "colab_type": "text"
      },
      "source": [
        "<a href=\"https://colab.research.google.com/github/statenandrea33/Staten_GEOG312_FinalExam/blob/main/FinalExam.ipynb\" target=\"_parent\"><img src=\"https://colab.research.google.com/assets/colab-badge.svg\" alt=\"Open In Colab\"/></a>"
      ]
    },
    {
      "cell_type": "markdown",
      "source": [
        "## Part 1: Python Programming\n",
        "\n",
        "1. Data Manipulation:  Write a Python function that takes a list of lists representing points (latitude, longitude) and returns the average latitude and average longitude."
      ],
      "metadata": {
        "id": "elbHq6k4qSxE"
      }
    },
    {
      "cell_type": "code",
      "source": [
        "points = [\n",
        "    [34.0522, -118.2437],\n",
        "    [40.7128, -74.0060],\n",
        "    [41.8781, -87.6298],\n",
        "    [37.7749, -122.4194],\n",
        "    [29.7604, -95.3698]\n",
        "]"
      ],
      "metadata": {
        "id": "_72FdnlTtbPI"
      },
      "execution_count": 1,
      "outputs": []
    },
    {
      "cell_type": "code",
      "execution_count": 2,
      "metadata": {
        "colab": {
          "base_uri": "https://localhost:8080/"
        },
        "id": "6gLYs_EhqOPg",
        "outputId": "4a190a4b-75b3-470d-a500-f328539af26b"
      },
      "outputs": [
        {
          "output_type": "stream",
          "name": "stdout",
          "text": [
            "Average Latitude: 36.83568, Average Longitude: -99.53374\n"
          ]
        }
      ],
      "source": [
        "def average_coordinates(points):\n",
        "    total_lat = sum(point[0] for point in points)\n",
        "    total_lon = sum(point[1] for point in points)\n",
        "    avg_lat = total_lat / len(points)\n",
        "    avg_lon = total_lon / len(points)\n",
        "    return avg_lat, avg_lon\n",
        "\n",
        "average_lat, average_lon = average_coordinates(points)\n",
        "\n",
        "print(f\"Average Latitude: {average_lat}, Average Longitude: {average_lon}\")"
      ]
    },
    {
      "cell_type": "markdown",
      "source": [
        "2. Conditional Statements: Write a Python program that reads a CSV file containing elevation data for points. The program should then identify and print the points with an elevation above a user-specified threshold."
      ],
      "metadata": {
        "id": "EE7CbeImqnTg"
      }
    },
    {
      "cell_type": "code",
      "source": [
        "url2 = 'https://github.com/statenandrea33/Staten_GEOG312_Lab9/blob/main/Riparian_vegetation_status_trends_elevation_great_basin_streams.csv'\n",
        "leafmap.download_file(url2)"
      ],
      "metadata": {
        "colab": {
          "base_uri": "https://localhost:8080/",
          "height": 109
        },
        "id": "btTamhQRtNNd",
        "outputId": "7a32d7dc-0831-43ec-c72c-14cb0c67abdc"
      },
      "execution_count": 37,
      "outputs": [
        {
          "output_type": "display_data",
          "data": {
            "text/plain": [
              "<IPython.core.display.HTML object>"
            ],
            "text/html": [
              "\n",
              "            <style>\n",
              "                .geemap-dark {\n",
              "                    --jp-widgets-color: white;\n",
              "                    --jp-widgets-label-color: white;\n",
              "                    --jp-ui-font-color1: white;\n",
              "                    --jp-layout-color2: #454545;\n",
              "                    background-color: #383838;\n",
              "                }\n",
              "                    \n",
              "                .geemap-dark .jupyter-button {\n",
              "                    --jp-layout-color3: #383838;\n",
              "                }\n",
              "                \n",
              "                .geemap-colab {\n",
              "                    background-color: var(--colab-primary-surface-color, white);\n",
              "                }\n",
              "                    \n",
              "                .geemap-colab .jupyter-button {\n",
              "                    --jp-layout-color3: var(--colab-primary-surface-color, white);\n",
              "                }\n",
              "            </style>\n",
              "            "
            ]
          },
          "metadata": {}
        },
        {
          "output_type": "stream",
          "name": "stderr",
          "text": [
            "Downloading...\n",
            "From: https://raw.githubusercontent.com/statenandrea33/Staten_GEOG312_Lab9/main/Riparian_vegetation_status_trends_elevation_great_basin_streams.csv\n",
            "To: /content/Riparian_vegetation_status_trends_elevation_great_basin_streams.csv\n",
            "8.21MB [00:00, 53.5MB/s]\n"
          ]
        },
        {
          "output_type": "execute_result",
          "data": {
            "text/plain": [
              "'/content/Riparian_vegetation_status_trends_elevation_great_basin_streams.csv'"
            ],
            "application/vnd.google.colaboratory.intrinsic+json": {
              "type": "string"
            }
          },
          "metadata": {},
          "execution_count": 37
        }
      ]
    },
    {
      "cell_type": "code",
      "source": [
        "import csv\n",
        "\n",
        "def filter_elevation(csv_file, threshold):\n",
        "    try:\n",
        "        with open(csv_file, 'r') as file:\n",
        "            reader = csv.reader(file)\n",
        "\n",
        "            header = next(reader)\n",
        "\n",
        "            elevation_index = header.index('Elevation_meters') if 'Elevation_meters' in header else -1\n",
        "\n",
        "            if elevation_index == -1:\n",
        "                print(\"Error: 'elevation' column not found in the CSV file.\")\n",
        "                return\n",
        "\n",
        "            for row in reader:\n",
        "                try:\n",
        "                    elevation = float(row[elevation_index])\n",
        "                    if elevation > threshold:\n",
        "                        print(f\"Point at ({row[0]}, {row[1]}) has elevation: {elevation}\")\n",
        "                except ValueError:\n",
        "                    print(f\"Error: Invalid elevation value in row {reader.line_num}.\")\n",
        "\n",
        "    except FileNotFoundError:\n",
        "        print(f\"Error: File not found at path: {csv_file}\")\n",
        "    except Exception as e:\n",
        "        print(f\"An unexpected error occurred: {e}\")\n",
        "\n",
        "csv_file_path = '/content/Riparian_vegetation_status_trends_elevation_great_basin_streams.csv'\n",
        "user_threshold = float(input(\"Enter the elevation threshold: \"))\n",
        "filter_elevation(csv_file_path, user_threshold)\n"
      ],
      "metadata": {
        "colab": {
          "base_uri": "https://localhost:8080/",
          "height": 475
        },
        "id": "fxGnutrEi2aU",
        "outputId": "7df6ada3-5862-4b23-814c-bb6e01ed404c"
      },
      "execution_count": 46,
      "outputs": [
        {
          "output_type": "display_data",
          "data": {
            "text/plain": [
              "<IPython.core.display.HTML object>"
            ],
            "text/html": [
              "\n",
              "            <style>\n",
              "                .geemap-dark {\n",
              "                    --jp-widgets-color: white;\n",
              "                    --jp-widgets-label-color: white;\n",
              "                    --jp-ui-font-color1: white;\n",
              "                    --jp-layout-color2: #454545;\n",
              "                    background-color: #383838;\n",
              "                }\n",
              "                    \n",
              "                .geemap-dark .jupyter-button {\n",
              "                    --jp-layout-color3: #383838;\n",
              "                }\n",
              "                \n",
              "                .geemap-colab {\n",
              "                    background-color: var(--colab-primary-surface-color, white);\n",
              "                }\n",
              "                    \n",
              "                .geemap-colab .jupyter-button {\n",
              "                    --jp-layout-color3: var(--colab-primary-surface-color, white);\n",
              "                }\n",
              "            </style>\n",
              "            "
            ]
          },
          "metadata": {}
        },
        {
          "output_type": "stream",
          "name": "stdout",
          "text": [
            "Enter the elevation threshold: 3000\n",
            "Point at (MULTIPOLYGON (((297739.181900001 4255197.7807,297744.4859 4255168.7487,297733.2464 4255165.7397,297725.937 4255165.1952,297721.474399999 4255165.5195,297712.702400001 4255167.2589,297707.626 4255168.79,297704.071100001 4255169.8623,297645.084500001 4255190.3709,297644.873400001 4255190.4612,297653.411799999 4255221.4757,297658.3396 4255219.4062,297674.8865 4255208.8315,297679.466400001 4255206.3334,297690.375 4255202.2664,297702.132000001 4255199.6145,297720.5285 4255197.4943,297733.1368 4255197.3542,297739.181900001 4255197.7807))), 4902) has elevation: 3210.75\n",
            "Point at (MULTIPOLYGON (((297902.5962 4255224.7463,297889.628300001 4255218.236,297872.9311 4255210.7461,297860.955900001 4255206.2071,297839.3496 4255199.4058,297832.613499999 4255197.4561,297829.2821 4255207.6421,297838.5009 4255210.6847,297855.823699999 4255215.6277,297867.7283 4255220.1862,297880.4579 4255227.1353,297896.0 4255239.1902,297902.5962 4255224.7463))), 4907) has elevation: 3228.68\n",
            "Point at (MULTIPOLYGON (((297653.411799999 4255221.4757,297644.873400001 4255190.4612,297635.4355 4255194.4965,297622.5695 4255201.4058,297617.097 4255203.2388,297612.020799999 4255204.3708,297600.910199999 4255205.9288,297558.406100001 4255209.5523,297553.8238 4255210.3137,297562.4922 4255250.9806,297570.731700001 4255248.6486,297581.844300001 4255244.7921,297592.2882 4255240.1155,297597.1087 4255237.3389,297612.2558 4255226.1744,297616.006099999 4255223.8895,297619.8866 4255222.1395,297627.730499999 4255220.2719,297631.935399999 4255220.208,297643.3497 4255222.8396,297647.136 4255223.159,297650.763400001 4255222.588,297653.411799999 4255221.4757))), 4913) has elevation: 3197.17\n",
            "Point at (MULTIPOLYGON (((297562.4922 4255250.9806,297553.8238 4255210.3137,297546.4613 4255211.5371,297540.702100001 4255213.0128,297531.008999999 4255216.8722,297513.800100001 4255226.5573,297508.430299999 4255229.1214,297503.9108 4255230.8552,297494.501 4255233.4625,297482.106399999 4255235.3469,297470.1771 4255235.8285,297471.089700001 4255256.3519,297516.8668 4255257.0964,297535.713 4255256.337,297547.558100001 4255254.5369,297559.2509 4255251.8979,297562.4922 4255250.9806))), 4917) has elevation: 3190.08\n",
            "Point at (MULTIPOLYGON (((297471.089700001 4255256.3519,297470.1771 4255235.8285,297469.646000001 4255235.8499,297457.025100001 4255235.5485,297406.7581 4255232.781,297403.4315 4255232.859,297404.871200001 4255257.3058,297437.488900001 4255256.1912,297455.5654 4255256.0994,297471.089700001 4255256.3519))), 4919) has elevation: 3180.87\n",
            "Point at (MULTIPOLYGON (((297404.871200001 4255257.3058,297403.4315 4255232.859,297394.945599999 4255233.0579,297389.369300001 4255233.6831,297384.121300001 4255234.8025,297379.3128 4255236.5927,297372.6709 4255240.7932,297361.0377 4255249.6966,297341.9577 4255265.575,297334.094000001 4255272.8484,297333.9536 4255272.9962,297341.535599999 4255285.3051,297359.605199999 4255267.7584,297367.869099999 4255261.9495,297374.7667 4255259.1577,297380.346000001 4255258.3908,297390.3324 4255257.8026,297404.871200001 4255257.3058))), 4923) has elevation: 3174.61\n",
            "Point at (MULTIPOLYGON (((297993.623300001 4255271.8191,297985.807299999 4255269.3681,297969.826999999 4255262.5958,297953.412700001 4255253.8269,297908.608900001 4255227.7648,297902.5962 4255224.7463,297896.0 4255239.1902,297899.803099999 4255242.14,297909.324199999 4255248.3715,297919.030899999 4255253.0903,297937.926300001 4255260.2908,297946.379399999 4255264.6316,297955.662499999 4255271.1023,297959.701699999 4255274.8389,297962.389799999 4255277.9372,297972.1902 4255292.9013,297975.7512 4255296.5122,297978.2888 4255298.5101,297993.623300001 4255271.8191))), 4924) has elevation: 3253.38\n",
            "Point at (MULTIPOLYGON (((297993.623300001 4255271.8191,297978.2888 4255298.5101,297979.902899999 4255299.7808,297989.429199999 4255305.6319,298021.8083 4255321.7359,298032.3899 4255327.8276,298042.185899999 4255335.0404,298050.803799999 4255342.739,298059.755100001 4255350.7356,298063.9827 4255353.9518,298068.197599999 4255356.4537,298072.407099999 4255357.9372,298076.1984 4255358.1761,298079.8257 4255357.4664,298083.114699999 4255355.9542,298085.862700001 4255353.7323,298087.828099999 4255350.8454,298088.841000001 4255347.1165,298088.8964 4255342.8878,298088.169900001 4255338.3658,298086.775000001 4255333.7315,298084.7687 4255329.1526,298082.154599999 4255324.7952,298078.885099999 4255320.8341,298074.6169 4255317.1766,298068.057400001 4255313.3081,298064.443899999 4255311.177,298047.538299999 4255303.4113,298036.526299999 4255297.6901,298029.668099999 4255293.0833,298010.807199999 4255278.9169,298005.8484 4255276.1429,298001.038999999 4255274.1445,297993.623300001 4255271.8191))), 4932) has elevation: 3261.11\n",
            "Point at (MULTIPOLYGON (((297341.535599999 4255285.3051,297333.9536 4255272.9962,297326.3587 4255280.9883,297304.825 4255306.5205,297294.543999999 4255317.4723,297285.1229 4255325.5798,297271.499 4255335.6524,297281.581000001 4255349.5473,297283.0632 4255348.4305,297290.359899999 4255341.515,297317.3442 4255309.0479,297327.094 4255298.4304,297341.0919 4255285.7359,297341.535599999 4255285.3051))), 4935) has elevation: 3160.51\n",
            "Point at (MULTIPOLYGON (((297281.581000001 4255349.5473,297271.499 4255335.6524,297254.990599999 4255347.8577,297244.780399999 4255354.6265,297234.4232 4255360.8082,297210.397599999 4255373.9547,297215.746 4255383.052,297227.242500001 4255376.8364,297249.182999999 4255365.6806,297256.0125 4255362.6191,297264.8756 4255359.8574,297268.1791 4255358.442,297275.4564 4255354.1621,297281.581000001 4255349.5473))), 4943) has elevation: 3158.58\n",
            "Point at (MULTIPOLYGON (((297215.746 4255383.052,297210.397599999 4255373.9547,297205.8253 4255376.4566,297173.398199999 4255395.0395,297152.0766 4255407.5984,297158.3035 4255417.5059,297165.5804 4255413.8544,297185.989600001 4255400.2435,297210.846300001 4255385.701,297215.746 4255383.052))), 4951) has elevation: 3142.59\n",
            "Point at (MULTIPOLYGON (((297158.3035 4255417.5059,297152.0766 4255407.5984,297110.2344 4255432.2443,297100.7876 4255437.4586,297075.875500001 4255449.7226,297060.569899999 4255457.8913,297067.3387 4255471.076,297073.884 4255465.363,297085.896200001 4255457.27,297111.297299999 4255443.6875,297146.9789 4255423.1885,297158.3035 4255417.5059))), 4955) has elevation: 3122.57\n",
            "Point at (MULTIPOLYGON (((297067.3387 4255471.076,297060.569899999 4255457.8913,297059.031700001 4255458.7122,297050.3228 4255464.3184,297041.428100001 4255471.9996,297034.4602 4255476.4525,297025.880399999 4255480.4816,297020.976099999 4255482.2369,297006.575 4255486.0,296996.8505 4255487.4826,297007.3518 4255510.1603,297008.543 4255509.4971,297020.3094 4255500.2576,297027.569099999 4255495.3691,297056.400000001 4255479.8416,297063.227499999 4255474.6645,297067.3387 4255471.076))), 4960) has elevation: 3102.62\n",
            "Point at (MULTIPOLYGON (((297007.3518 4255510.1603,296996.8505 4255487.4826,296993.398099999 4255488.009,296964.674200001 4255491.0163,296953.160099999 4255493.1978,296947.126799999 4255494.9317,296937.059600001 4255498.7734,296927.5655 4255503.6428,296915.017700001 4255512.0057,296909.466 4255516.5141,296922.5076 4255547.8536,296924.8065 4255548.0427,296927.9397 4255547.208,296931.1672 4255545.3937,296934.439399999 4255542.8281,296940.921699999 4255536.1395,296946.961900001 4255528.2196,296957.1866 4255511.2545,296959.9198 4255508.1406,296962.2488 4255506.4686,296967.1533 4255504.8022,296971.5198 4255505.1111,296973.139800001 4255505.8899,296980.146700001 4255511.2668,296983.476700001 4255513.2708,296987.2175 4255514.6554,296991.253499999 4255515.0913,296995.5488 4255514.6932,296999.9548 4255513.5845,297004.331899999 4255511.8415,297007.3518 4255510.1603))), 4963) has elevation: 3096.01\n",
            "Point at (MULTIPOLYGON (((296556.5269 4255593.5685,296557.009600001 4255578.6387,296554.8225 4255578.37,296532.6851 4255573.5217,296516.189700001 4255569.0744,296497.409700001 4255562.822,296488.257399999 4255560.8723,296478.156300001 4255560.751,296468.592000001 4255562.2005,296461.1143 4255564.7806,296460.2034 4255592.5409,296467.1418 4255595.1493,296472.087 4255596.1117,296477.421299999 4255596.4988,296488.888899999 4255596.1141,296526.0484 4255592.1902,296532.3797 4255591.8803,296545.1484 4255592.1382,296556.5269 4255593.5685))), 4967) has elevation: 3023.33\n",
            "Point at (MULTIPOLYGON (((296624.317399999 4255600.8618,296623.637799999 4255576.4704,296598.8401 4255575.8774,296593.164800001 4255576.3142,296577.5162 4255579.1006,296572.293900001 4255579.7361,296566.698399999 4255579.8289,296557.009600001 4255578.6387,296556.5269 4255593.5685,296563.4536 4255594.4392,296595.3183 4255601.2083,296606.5165 4255602.107,296618.960300001 4255601.4913,296624.317399999 4255600.8618))), 4968) has elevation: 3035.18\n",
            "Point at (MULTIPOLYGON (((296460.2034 4255592.5409,296461.1143 4255564.7806,296460.399299999 4255565.0273,296452.085 4255569.6187,296448.9578 4255570.5842,296445.562899999 4255571.0902,296438.361899999 4255570.7781,296382.912399999 4255555.1484,296368.3011 4255552.0576,296363.207599999 4255551.7005,296365.896799999 4255597.1263,296390.806400001 4255594.6541,296437.948200001 4255589.0908,296447.1694 4255589.1998,296451.608700001 4255589.8315,296455.817099999 4255590.8919,296460.2034 4255592.5409))), 4969) has elevation: 3014.03\n",
            "Point at (MULTIPOLYGON (((296922.5076 4255547.8536,296909.466 4255516.5141,296904.615500001 4255520.453,296899.0631 4255523.1176,296894.623399999 4255524.3378,296889.893100001 4255525.07,296882.7341 4255525.3731,296859.143299999 4255523.8277,296852.0029 4255524.6485,296842.229600001 4255527.3469,296830.105499999 4255532.7133,296813.0767 4255541.9529,296791.609800001 4255541.2235,296789.5983 4255542.2023,296805.7832 4255605.5633,296819.6057 4255600.3014,296823.1243 4255595.5883,296828.914499999 4255577.9359,296828.681 4255568.6932,296829.804300001 4255561.7285,296834.286600001 4255554.0182,296833.574200001 4255546.2921,296837.019899999 4255543.5046,296840.6691 4255541.3857,296844.3435 4255540.0948,296846.9959 4255539.792,296849.611300001 4255540.1836,296852.5549 4255541.7861,296858.053 4255546.8153,296861.263800001 4255549.1918,296864.979899999 4255550.8402,296869.169800001 4255551.8591,296873.6165 4255552.3105,296878.118700001 4255552.2198,296882.4803 4255551.576,296886.4986 4255550.3312,296896.4348 4255544.8702,296900.192099999 4255543.6239,296904.1545 4255542.9933,296910.785400001 4255543.3927,296922.060600001 4255547.8168,296922.5076 4255547.8536))), 4970) has elevation: 3067.16\n",
            "Point at (MULTIPOLYGON (((296365.896799999 4255597.1263,296363.207599999 4255551.7005,296359.3299 4255551.4287,296353.293100001 4255551.7387,296341.064300001 4255553.4749,296322.530700001 4255557.5982,296297.9082 4255564.4669,296297.2434 4255564.7081,296303.165400001 4255603.6111,296315.1109 4255602.1668,296365.896799999 4255597.1263))), 4971) has elevation: 3006.99\n",
            "Point at (MULTIPOLYGON (((296805.7832 4255605.5633,296789.5983 4255542.2023,296778.0056 4255547.843,296761.9559 4255550.2304,296752.5149 4255557.0751,296736.180500001 4255558.4787,296718.655300001 4255559.1366,296723.5191 4255612.5929,296725.327399999 4255612.2625,296743.522099999 4255602.2238,296754.863099999 4255592.1851,296765.662 4255594.0673,296772.044200001 4255599.8515,296783.393599999 4255606.8315,296796.9381 4255608.1408,296802.877199999 4255606.6695,296805.7832 4255605.5633))), 4972) has elevation: 3055.45\n",
            "Point at (MULTIPOLYGON (((296723.5191 4255612.5929,296718.655300001 4255559.1366,296702.407999999 4255559.7466,296698.517299999 4255559.6952,296687.006200001 4255560.9418,296675.742099999 4255563.6061,296653.972300001 4255572.1253,296644.5782 4255574.9278,296639.786000001 4255575.8374,296628.124800001 4255576.5777,296623.637799999 4255576.4704,296624.317399999 4255600.8618,296644.0816 4255598.5393,296656.698599999 4255597.5036,296662.847599999 4255597.4412,296671.1839 4255597.3567,296678.4783 4255609.1527,296699.4355 4255615.8896,296706.4466 4255615.7124,296723.5191 4255612.5929))), 4973) has elevation: 3046.42\n",
            "Point at (MULTIPOLYGON (((296303.165400001 4255603.6111,296297.2434 4255564.7081,296280.0708 4255570.9378,296263.7471 4255579.1114,296257.730000001 4255582.8814,296249.894699999 4255589.0241,296231.7286 4255606.2316,296241.605600001 4255633.5153,296253.080400001 4255622.5665,296262.345799999 4255615.2595,296267.334500001 4255612.2832,296272.7256 4255609.9017,296278.3927 4255608.0502,296284.2622 4255606.5883,296296.3983 4255604.4293,296303.165400001 4255603.6111))), 4975) has elevation: 3000.32\n",
            "Point at (MULTIPOLYGON (((297832.613499999 4255197.4561,297787.7682 4255184.4762,297746.8093 4255169.3707,297744.4859 4255168.7487,297739.181900001 4255197.7807,297752.263700001 4255198.7035,297793.7344 4255202.8683,297810.785799999 4255203.309,297810.938799999 4255203.3337,297816.900000001 4255204.2955,297827.889700001 4255207.1826,297829.2821 4255207.6421,297832.613499999 4255197.4561))), 5774) has elevation: 3218.59\n"
          ]
        }
      ]
    },
    {
      "cell_type": "markdown",
      "source": [
        "3. Loops: Write a Python program that iterates through a dictionary containing county names and their corresponding population densities. The program should calculate and print the total population for all counties. (Hint: Use a random number generator or google the population of your chosen cities to create\n",
        "the values for the population density. Use 10 different city names.)"
      ],
      "metadata": {
        "id": "sUtJERk0qusV"
      }
    },
    {
      "cell_type": "code",
      "source": [
        "county_populations = {\n",
        "    'Los Angeles': 10014009,\n",
        "    'Cook': 5275541,\n",
        "    'Harris': 4731145,\n",
        "    'Maricopa': 4420568,\n",
        "    'San Diego': 3298634,\n",
        "    'Orange': 3186989,\n",
        "    'Miami-Dade': 2701767,\n",
        "    'Dallas': 2613539,\n",
        "    'Kings': 2736074,\n",
        "    'Riverside': 2418185\n",
        "}\n",
        "\n",
        "def calculate_total_population(county_populations):\n",
        "    total_population = sum(county_populations.values())\n",
        "    return total_population\n",
        "\n",
        "total_population = calculate_total_population(county_populations)\n",
        "print(f'Total population for all counties: {total_population}')\n"
      ],
      "metadata": {
        "colab": {
          "base_uri": "https://localhost:8080/"
        },
        "id": "RjSBditPxR0m",
        "outputId": "81ff8f60-838e-4ee4-a369-f2eb0f02fdd1"
      },
      "execution_count": 4,
      "outputs": [
        {
          "output_type": "stream",
          "name": "stdout",
          "text": [
            "Total population for all counties: 41396451\n"
          ]
        }
      ]
    },
    {
      "cell_type": "markdown",
      "source": [
        "4. Functions with Arguements: Write a Python function that takes a shapefile path as input and returns its area in square kilometers."
      ],
      "metadata": {
        "id": "FtslpVEDqzjs"
      }
    },
    {
      "cell_type": "code",
      "source": [
        "!pip install leafmap"
      ],
      "metadata": {
        "colab": {
          "base_uri": "https://localhost:8080/"
        },
        "id": "I-11_Tg8zfp5",
        "outputId": "ec529ddc-41f4-47a4-bb89-a6b3ec1896c7"
      },
      "execution_count": 5,
      "outputs": [
        {
          "output_type": "stream",
          "name": "stdout",
          "text": [
            "Installing collected packages: whitebox, jedi, geojson, pystac, pystac-client, whiteboxgui, leafmap\n",
            "Successfully installed geojson-3.1.0 jedi-0.19.1 leafmap-0.29.5 pystac-1.9.0 pystac-client-0.7.5 whitebox-2.3.1 whiteboxgui-2.3.0\n"
          ]
        }
      ]
    },
    {
      "cell_type": "code",
      "source": [
        "import leafmap\n",
        "url ='https://github.com/statenandrea33/Staten_GEOG312_FinalProject/blob/main/tl_2023_us_state.zip'\n",
        "leafmap.download_file(url, unzip=True)"
      ],
      "metadata": {
        "colab": {
          "base_uri": "https://localhost:8080/",
          "height": 127
        },
        "id": "3zSrwv0czYtQ",
        "outputId": "dfd2dceb-895a-4e1e-86cc-ea43271f3505"
      },
      "execution_count": 6,
      "outputs": [
        {
          "output_type": "stream",
          "name": "stderr",
          "text": [
            "Downloading...\n",
            "From: https://raw.githubusercontent.com/statenandrea33/Staten_GEOG312_FinalProject/main/tl_2023_us_state.zip\n",
            "To: /content/tl_2023_us_state.zip\n",
            "100%|██████████| 9.95M/9.95M [00:00<00:00, 46.4MB/s]\n"
          ]
        },
        {
          "output_type": "stream",
          "name": "stdout",
          "text": [
            "Extracting files...\n"
          ]
        },
        {
          "output_type": "execute_result",
          "data": {
            "text/plain": [
              "'/content/tl_2023_us_state.zip'"
            ],
            "application/vnd.google.colaboratory.intrinsic+json": {
              "type": "string"
            }
          },
          "metadata": {},
          "execution_count": 6
        }
      ]
    },
    {
      "cell_type": "code",
      "source": [
        "import geopandas as gpd\n",
        "\n",
        "shapefile_path = '/content/tl_2023_us_state.shp'\n",
        "gdf = gpd.read_file(shapefile_path)\n",
        "\n",
        "print(f\"Shapefile CRS: {gdf.crs}\")\n"
      ],
      "metadata": {
        "colab": {
          "base_uri": "https://localhost:8080/"
        },
        "id": "66Pyk7b42qvb",
        "outputId": "5bd9ea64-e266-4c6e-e649-ed9fedefa152"
      },
      "execution_count": 7,
      "outputs": [
        {
          "output_type": "stream",
          "name": "stdout",
          "text": [
            "Shapefile CRS: EPSG:4269\n"
          ]
        }
      ]
    },
    {
      "cell_type": "code",
      "source": [
        "target_crs = 'EPSG:3395'\n",
        "gdf_1 = gdf.to_crs(target_crs)\n",
        "\n",
        "total_area = gdf_1.geometry.area.sum() / 1e6\n",
        "print(f'Total area of the reprojected shapefile: {total_area:.2f} square kilometers')\n"
      ],
      "metadata": {
        "colab": {
          "base_uri": "https://localhost:8080/"
        },
        "id": "RT1ISuYx3Cf_",
        "outputId": "02ce5fc8-892b-42d4-9758-d0cec71383e6"
      },
      "execution_count": 8,
      "outputs": [
        {
          "output_type": "stream",
          "name": "stdout",
          "text": [
            "Total area of the reprojected shapefile: 22811284.93 square kilometers\n"
          ]
        }
      ]
    },
    {
      "cell_type": "markdown",
      "source": [
        "5. Error Handling:Write a Python program that attempts to read a raster file. If the file is not found or invalid, the program should print a helpful error message and gracefully exit."
      ],
      "metadata": {
        "id": "XpEQNsWxq8Rw"
      }
    },
    {
      "cell_type": "code",
      "source": [
        "url1 = 'https://github.com/opengeos/data/blob/main/elevation/dtm.tif'\n",
        "leafmap.download_file(url1)"
      ],
      "metadata": {
        "colab": {
          "base_uri": "https://localhost:8080/",
          "height": 109
        },
        "id": "_1-dbGI3h3N1",
        "outputId": "2cf8b788-4665-4785-f613-533c1667554a"
      },
      "execution_count": 32,
      "outputs": [
        {
          "output_type": "display_data",
          "data": {
            "text/plain": [
              "<IPython.core.display.HTML object>"
            ],
            "text/html": [
              "\n",
              "            <style>\n",
              "                .geemap-dark {\n",
              "                    --jp-widgets-color: white;\n",
              "                    --jp-widgets-label-color: white;\n",
              "                    --jp-ui-font-color1: white;\n",
              "                    --jp-layout-color2: #454545;\n",
              "                    background-color: #383838;\n",
              "                }\n",
              "                    \n",
              "                .geemap-dark .jupyter-button {\n",
              "                    --jp-layout-color3: #383838;\n",
              "                }\n",
              "                \n",
              "                .geemap-colab {\n",
              "                    background-color: var(--colab-primary-surface-color, white);\n",
              "                }\n",
              "                    \n",
              "                .geemap-colab .jupyter-button {\n",
              "                    --jp-layout-color3: var(--colab-primary-surface-color, white);\n",
              "                }\n",
              "            </style>\n",
              "            "
            ]
          },
          "metadata": {}
        },
        {
          "output_type": "stream",
          "name": "stderr",
          "text": [
            "Downloading...\n",
            "From: https://raw.githubusercontent.com/opengeos/data/main/elevation/dtm.tif\n",
            "To: /content/dtm.tif\n",
            "100%|██████████| 214k/214k [00:00<00:00, 2.12MB/s]\n"
          ]
        },
        {
          "output_type": "execute_result",
          "data": {
            "text/plain": [
              "'/content/dtm.tif'"
            ],
            "application/vnd.google.colaboratory.intrinsic+json": {
              "type": "string"
            }
          },
          "metadata": {},
          "execution_count": 32
        }
      ]
    },
    {
      "cell_type": "code",
      "source": [
        "import rasterio\n",
        "from rasterio.errors import RasterioError\n",
        "\n",
        "def read_raster_file(file_path):\n",
        "    try:\n",
        "\n",
        "        with rasterio.open(file_path) as src:\n",
        "\n",
        "            print(\"Raster file successfully opened.\")\n",
        "\n",
        "    except FileNotFoundError:\n",
        "\n",
        "        print(f\"Error: File not found at path: {file_path}\")\n",
        "    except RasterioError:\n",
        "\n",
        "        print(f\"Error: Invalid raster file at path: {file_path}\")\n",
        "    except Exception as e:\n",
        "\n",
        "        print(f\"An unexpected error occurred: {e}\")\n",
        "    else:\n",
        "\n",
        "        print(\"Raster file processing completed successfully.\")\n",
        "    finally:\n",
        "\n",
        "        print(\"Program execution complete.\")\n",
        "\n",
        "file_path = '/content/dtm.tif'\n",
        "read_raster_file(file_path)\n"
      ],
      "metadata": {
        "id": "sYIu1fUS3wSi",
        "colab": {
          "base_uri": "https://localhost:8080/",
          "height": 72
        },
        "outputId": "47610ac6-ad70-4959-85df-6f68b8a7509a"
      },
      "execution_count": 33,
      "outputs": [
        {
          "output_type": "display_data",
          "data": {
            "text/plain": [
              "<IPython.core.display.HTML object>"
            ],
            "text/html": [
              "\n",
              "            <style>\n",
              "                .geemap-dark {\n",
              "                    --jp-widgets-color: white;\n",
              "                    --jp-widgets-label-color: white;\n",
              "                    --jp-ui-font-color1: white;\n",
              "                    --jp-layout-color2: #454545;\n",
              "                    background-color: #383838;\n",
              "                }\n",
              "                    \n",
              "                .geemap-dark .jupyter-button {\n",
              "                    --jp-layout-color3: #383838;\n",
              "                }\n",
              "                \n",
              "                .geemap-colab {\n",
              "                    background-color: var(--colab-primary-surface-color, white);\n",
              "                }\n",
              "                    \n",
              "                .geemap-colab .jupyter-button {\n",
              "                    --jp-layout-color3: var(--colab-primary-surface-color, white);\n",
              "                }\n",
              "            </style>\n",
              "            "
            ]
          },
          "metadata": {}
        },
        {
          "output_type": "stream",
          "name": "stdout",
          "text": [
            "Raster file successfully opened.\n",
            "Raster file processing completed successfully.\n",
            "Program execution complete.\n"
          ]
        }
      ]
    },
    {
      "cell_type": "code",
      "source": [
        "import rasterio\n",
        "from rasterio.errors import RasterioError\n",
        "\n",
        "def read_raster_file(file_path):\n",
        "    try:\n",
        "\n",
        "        with rasterio.open(file_path) as src:\n",
        "\n",
        "            print(\"Raster file successfully opened.\")\n",
        "    except FileNotFoundError:\n",
        "\n",
        "        print(f\"Error: File not found at path: {file_path}\")\n",
        "    except RasterioError:\n",
        "\n",
        "        print(f\"Error: Invalid raster file at path: {file_path}\")\n",
        "    except Exception as e:\n",
        "\n",
        "        print(f\"An unexpected error occurred: {e}\")\n",
        "    else:\n",
        "\n",
        "        print(\"Raster file processing completed successfully.\")\n",
        "    finally:\n",
        "\n",
        "        print(\"Program execution complete.\")\n",
        "\n",
        "file_path = '/content/dlm.tif'\n",
        "read_raster_file(file_path)"
      ],
      "metadata": {
        "colab": {
          "base_uri": "https://localhost:8080/",
          "height": 53
        },
        "id": "r-ZWdXe7iYwX",
        "outputId": "0a505f18-53f3-433d-d934-14582cb8d2e0"
      },
      "execution_count": 34,
      "outputs": [
        {
          "output_type": "display_data",
          "data": {
            "text/plain": [
              "<IPython.core.display.HTML object>"
            ],
            "text/html": [
              "\n",
              "            <style>\n",
              "                .geemap-dark {\n",
              "                    --jp-widgets-color: white;\n",
              "                    --jp-widgets-label-color: white;\n",
              "                    --jp-ui-font-color1: white;\n",
              "                    --jp-layout-color2: #454545;\n",
              "                    background-color: #383838;\n",
              "                }\n",
              "                    \n",
              "                .geemap-dark .jupyter-button {\n",
              "                    --jp-layout-color3: #383838;\n",
              "                }\n",
              "                \n",
              "                .geemap-colab {\n",
              "                    background-color: var(--colab-primary-surface-color, white);\n",
              "                }\n",
              "                    \n",
              "                .geemap-colab .jupyter-button {\n",
              "                    --jp-layout-color3: var(--colab-primary-surface-color, white);\n",
              "                }\n",
              "            </style>\n",
              "            "
            ]
          },
          "metadata": {}
        },
        {
          "output_type": "stream",
          "name": "stdout",
          "text": [
            "An unexpected error occurred: /content/dlm.tif: No such file or directory\n",
            "Program execution complete.\n"
          ]
        }
      ]
    },
    {
      "cell_type": "markdown",
      "source": [
        "## Part 2: GIS Workflows For this section you are not explicitly writing a python program, but you are thinking through the problems and discussing the code that you would use to solve the problem.\n",
        "\n",
        "1. Problem-Solving: You are tasked with creating a program to identify areas suitable for building a new solar farm. You have access to datasets for land cover, slope, and solar radiation. Describe the workflow of your program, including data preparation, analysis steps, and final output."
      ],
      "metadata": {
        "id": "YFgK4smWrCQ2"
      }
    },
    {
      "cell_type": "markdown",
      "source": [
        "To create a program to identify areas that are suitable for building a new solar farm, the first step will be data preparation. This would be loading the datasets for land cover, slope, and solar radiation. The next step would be to merge the datasets to creat a comprehensive input for the analysis step. This analysis would involve overlaying the dataset, assignemnts weights to each factor, and create a sutiability index."
      ],
      "metadata": {
        "id": "_4xkAuBasV17"
      }
    },
    {
      "cell_type": "markdown",
      "source": [
        "2. Critical Thinking: You are given a shapefile of earthquake epicenters and a raster file of population density. Explain how you would use Python and GIS libraries to identify the areas most vulnerable to earthquake damage, considering both population density and proximity to epicenters."
      ],
      "metadata": {
        "id": "8IpiiF_9rQxt"
      }
    },
    {
      "cell_type": "markdown",
      "source": [
        "To identify earthquake-vulnerable areas, Python and GIS tools are useful. The workflow would begin with loading the earthquake epicenters and population density datasets into a map class for visualization. This would be followed up by spatial analysis, which would include buffer creation around epicenters. The previous process would allow us to identify areas that are at risk."
      ],
      "metadata": {
        "id": "CSSwXKaYTuhN"
      }
    },
    {
      "cell_type": "markdown",
      "source": [
        "3. Critical Thinking: You are tasked with creating a visualization that shows the impacts of climate change on Tennessee agricultural production. You are given a dataset for precipitation, temperature, and crop output. How would you go about visualizing this in python and what analyses would need to be done to measure these impacts?"
      ],
      "metadata": {
        "id": "OkE_EieJrWdl"
      }
    },
    {
      "cell_type": "markdown",
      "source": [
        "I would start by creating a map class and visualizing the data via a split map because this would allow us to visualize the change overtime. I would then perform a zonal statistics to calculate the percentage of change in these datasets over time."
      ],
      "metadata": {
        "id": "7C7Q_N6YsXlZ"
      }
    },
    {
      "cell_type": "markdown",
      "source": [
        "4. Geospatial Analysis:You have a shapefile of national parks and a raster file of deforestation rates. Design a Python program to calculate the total area of deforestation within each national park and identify the park with the highest deforestation rate."
      ],
      "metadata": {
        "id": "-gwu8iwjrfAa"
      }
    },
    {
      "cell_type": "markdown",
      "source": [
        "As I mentioned in the previous problem, I would use zonal statistics within geemaps functionality. This would allow me to calculate the total area that has experienced deforestation. I could then upload this information into a table and produce visual results to identify the park with the highest rate."
      ],
      "metadata": {
        "id": "OLnGYeXzsYCO"
      }
    },
    {
      "cell_type": "markdown",
      "source": [
        "## Part 3: Mapping with Python\n",
        "\n",
        "1. Shapefile Visualization: Write a Python program to read a shapefile. Create a map showing the data points as colored polygons (anything other than circles). Each data point should be colored based on its magnitude (e.g., green for small (low), yellow for medium (average), red for large (high))."
      ],
      "metadata": {
        "id": "dP1hv0A1rlE3"
      }
    },
    {
      "cell_type": "code",
      "source": [
        "import geopandas as gpd\n",
        "import matplotlib.pyplot as plt\n",
        "from matplotlib.colors import ListedColormap\n",
        "\n",
        "def assign_color(ALAND):\n",
        "    if ALAND < 150000000:\n",
        "        return 'green'\n",
        "    elif  150000000 <= ALAND < 80000000000:\n",
        "        return 'yellow'\n",
        "    else:\n",
        "        return 'red'\n",
        "\n",
        "shapefile_path = '/content/tl_2023_us_state.shp'\n",
        "\n",
        "gdf = gpd.read_file(shapefile_path)\n",
        "\n",
        "gdf['color'] = gdf['ALAND'].apply(assign_color)\n",
        "\n",
        "colors = ['green', 'yellow', 'red']\n",
        "cmap = ListedColormap(colors)\n",
        "\n",
        "fig, ax = plt.subplots(figsize=(10, 10))\n",
        "gdf.plot(ax=ax, color=gdf['color'], legend=True, cmap=cmap)\n",
        "\n",
        "plt.title('Data Points Colored by Magnitude')\n",
        "plt.show()\n"
      ],
      "metadata": {
        "colab": {
          "base_uri": "https://localhost:8080/",
          "height": 294
        },
        "id": "LeqM5r8-se63",
        "outputId": "e7ed6e74-2682-41a9-c675-370936f2b6c4"
      },
      "execution_count": 9,
      "outputs": [
        {
          "output_type": "display_data",
          "data": {
            "text/plain": [
              "<Figure size 1000x1000 with 1 Axes>"
            ],
            "image/png": "[encoded data removed]"
          },
          "metadata": {}
        }
      ]
    },
    {
      "cell_type": "markdown",
      "source": [
        "2. Raster Processing and Visualization: Write a Python program to read a raster file of precipitation data and apply a colormap to visualize the temperature variations. Add a legend to the map and ensure clear labels for axes and title *Hint: Use the precipitation dataset already provided to you."
      ],
      "metadata": {
        "id": "3uUrxnkCruk9"
      }
    },
    {
      "cell_type": "code",
      "source": [
        "import ee\n",
        "import geemap\n",
        "geemap.ee_initialize()"
      ],
      "metadata": {
        "colab": {
          "base_uri": "https://localhost:8080/",
          "height": 183
        },
        "id": "JG9eE99BWf73",
        "outputId": "d3babacd-b825-485d-84ab-9bfbb59472fa"
      },
      "execution_count": 23,
      "outputs": [
        {
          "output_type": "stream",
          "name": "stdout",
          "text": [
            "To authorize access needed by Earth Engine, open the following URL in a web browser and follow the instructions. If the web browser does not start automatically, please manually browse the URL below.\n",
            "\n",
            "    https://code.earthengine.google.com/client-auth?scopes=https%3A//www.googleapis.com/auth/earthengine%20https%3A//www.googleapis.com/auth/devstorage.full_control&request_id=F0jSZQDCbTKvPgaDufqKScRyelv_6STtZXZViuEMqjg&tc=R1wtBavSZ-M5NllBUntTs2voX9KK8t05OMuFFddjop4&cc=8GJxzqe1012FYIPlBlG_2YwG1Di9H-kEKgKGXzX43PY\n",
            "\n",
            "The authorization workflow will generate a code, which you should paste in the box below.\n",
            "Enter verification code: 4/1AfJohXllopAaWx61NTblgoP0qfqaOgNirfNutnIuXS4D0wKC9vj8_I-dkKw\n",
            "\n",
            "Successfully saved authorization token.\n"
          ]
        }
      ]
    },
    {
      "cell_type": "code",
      "source": [
        "map = geemap.Map()\n",
        "states = ee.FeatureCollection('TIGER/2018/States')\n",
        "\n",
        "\n",
        "collection = (\n",
        "    ee.ImageCollection(\"NASA/ORNL/DAYMET_V4\")\n",
        "    .filterDate('2018-08-02', '2018-08-03')\n",
        "    .select('tmax')\n",
        ")\n",
        "\n",
        "image = collection.median().clipToCollection(states)\n",
        "\n",
        "vis = {\n",
        "    'min': -40.0,\n",
        "    'max': 30.0,\n",
        "    'palette': ['1621a2', 'ffffff', '03ffff', '13ff03', 'efff00', 'ffb103', 'ff2300'],\n",
        "}\n",
        "\n",
        "map.centerObject(states)\n",
        "map.addLayer(image, vis, 'Precipitation')\n",
        "map.add_colorbar(vis, label=\"Precipitation Temp (C)\", layer_name=\"RateBar\")\n",
        "map"
      ],
      "metadata": {
        "colab": {
          "base_uri": "https://localhost:8080/",
          "height": 621,
          "referenced_widgets": [
            "b41dae9c2d9f48fdb1ff38a27ab3d94a",
            "70fccec81c2c46a28183d9b2ffbfba56",
            "5a6840add8d84d24a7f1582775e082e8",
            "1f9fe4dc4d1540279f5fb4d1268c99de",
            "b8649d2a1aab4aacb92ba92a9679c103",
            "0d69984d661e4eec80cc64defc1e2319",
            "2d77ca4563624b88bd90cb55a3ba8d1f",
            "01d6419c2d7e432c9019dd9b37c6cb68",
            "ed571e5c0e4341f79c54d8fe99bcc45b",
            "de80f1eb5b4245238a08674fba6a158a",
            "fbdce51ae3594e3e94db966f3bdf5214",
            "c82d7f2952b3468da2f3a8e1736ce9a7",
            "34bede774e564af89b819778d921abb7",
            "a71d9124e65c4980830a8071c1a7f306",
            "520392e5835d4edf8d5123caf416b939",
            "4898ac757e23473db56935f71548787b",
            "47ccdc9e6b854bb9ae55d3332f40f7fe",
            "ff27739534c5402b868126e1dc01b351",
            "80c6ee94cd0a44788812d89812a2196a",
            "7a196e79dfdd42f5b8cc77d324ae931f",
            "f7f4b221460343ddb89d62567db95dd6",
            "9a2c54bc95b24b14b1cbb90c0c455bca",
            "951125314c384096a7ede1817a167789",
            "af91cbf0c6a84d84b5d602aa9cd2b81d",
            "2e9b69a4b54948df9f90ef8baa47b57b",
            "f826b50538e4474d92cee8a29bfc2d4d",
            "9534327202824fceac142d9e559e1368",
            "881e9318962a4c3a8ebf75930dad7484"
          ]
        },
        "id": "wdmOG1RPVher",
        "outputId": "e1986549-09a2-41d5-c69a-7736d7f047f4"
      },
      "execution_count": 29,
      "outputs": [
        {
          "output_type": "display_data",
          "data": {
            "text/plain": [
              "<IPython.core.display.HTML object>"
            ],
            "text/html": [
              "\n",
              "            <style>\n",
              "                .geemap-dark {\n",
              "                    --jp-widgets-color: white;\n",
              "                    --jp-widgets-label-color: white;\n",
              "                    --jp-ui-font-color1: white;\n",
              "                    --jp-layout-color2: #454545;\n",
              "                    background-color: #383838;\n",
              "                }\n",
              "                    \n",
              "                .geemap-dark .jupyter-button {\n",
              "                    --jp-layout-color3: #383838;\n",
              "                }\n",
              "                \n",
              "                .geemap-colab {\n",
              "                    background-color: var(--colab-primary-surface-color, white);\n",
              "                }\n",
              "                    \n",
              "                .geemap-colab .jupyter-button {\n",
              "                    --jp-layout-color3: var(--colab-primary-surface-color, white);\n",
              "                }\n",
              "            </style>\n",
              "            "
            ]
          },
          "metadata": {}
        },
        {
          "output_type": "display_data",
          "data": {
            "text/plain": [
              "Map(center=[0, 0], controls=(WidgetControl(options=['position', 'transparent_bg'], widget=SearchDataGUI(childr…"
            ],
            "application/vnd.jupyter.widget-view+json": {
              "version_major": 2,
              "version_minor": 0,
              "model_id": "b41dae9c2d9f48fdb1ff38a27ab3d94a"
            }
          },
          "metadata": {
            "application/vnd.jupyter.widget-view+json": {
              "colab": {
                "custom_widget_manager": {
                  "url": "https://ssl.gstatic.com/colaboratory-static/widgets/colab-cdn-widget-manager/b3e629b1971e1542/manager.min.js"
                }
              }
            }
          }
        }
      ]
    },
    {
      "cell_type": "markdown",
      "source": [
        "Bonus Question: Develop a Python program that automates a repetitive GIS task you encountered during your project or coursework. Explain the task, your approach, and the benefits of automation."
      ],
      "metadata": {
        "id": "LpDhfr_Yr4iy"
      }
    },
    {
      "cell_type": "code",
      "source": [
        "import os\n",
        "import geopandas as gpd\n",
        "\n",
        "def shapefiles_to_geojson(input_directory, output_directory):\n",
        "    shapefiles = [file for file in os.listdir(input_directory) if file.endswith('.shp')]\n",
        "\n",
        "\n",
        "    if not shapefiles:\n",
        "        print(\"No shapefiles found in the specified directory.\")\n",
        "        return\n",
        "\n",
        "\n",
        "    for shapefile in shapefiles:\n",
        "        input_shapefile_path = os.path.join(input_directory, shapefile)\n",
        "\n",
        "\n",
        "        output_geojson_path = os.path.join(output_directory, f\"{os.path.splitext(shapefile)[0]}.geojson\")\n",
        "\n",
        "\n",
        "        gdf = gpd.read_file(input_shapefile_path)\n",
        "\n",
        "        if gdf.crs is None:\n",
        "\n",
        "            gdf = gdf.set_crs(\"EPSG:4326\")\n",
        "\n",
        "        geojson_data = gdf.to_json()\n",
        "\n",
        "\n",
        "        with open(output_geojson_path, 'w') as geojson_file:\n",
        "            geojson_file.write(geojson_data)\n",
        "\n",
        "        print(f\"Conversion completed for {shapefile}. GeoJSON file saved to {output_geojson_path}\")\n",
        "\n",
        "\n",
        "input_directory = '/content/Shapefiles'\n",
        "output_directory = '/content/GeoJSON'\n",
        "shapefiles_to_geojson(input_directory, output_directory)\n"
      ],
      "metadata": {
        "id": "ILEDvjtSstVY",
        "colab": {
          "base_uri": "https://localhost:8080/"
        },
        "outputId": "da5a654e-fb83-4cca-a464-eb21f229a93e"
      },
      "execution_count": 22,
      "outputs": [
        {
          "output_type": "stream",
          "name": "stdout",
          "text": [
            "Conversion completed for tl_2023_us_state.shp. GeoJSON file saved to /content/GeoJSON/tl_2023_us_state.geojson\n",
            "Conversion completed for States_shapefile.shp. GeoJSON file saved to /content/GeoJSON/States_shapefile.geojson\n",
            "Conversion completed for points.shp. GeoJSON file saved to /content/GeoJSON/points.geojson\n"
          ]
        }
      ]
    }
  ]
}